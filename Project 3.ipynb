{
 "cells": [
  {
   "cell_type": "markdown",
   "metadata": {},
   "source": [
    "## Project 3: Data Visualization from Project 1 and 2\n",
    "### Stephen Koenig\n",
    "### SDS 348\n",
    "### 5/9/2021"
   ]
  },
  {
   "cell_type": "code",
   "execution_count": 7,
   "metadata": {},
   "outputs": [],
   "source": [
    "# IMPORTANT\n",
    "# Running this chunk lets you have multiple outputs from a single chunk; run it first!\n",
    "from IPython.core.interactiveshell import InteractiveShell\n",
    "InteractiveShell.ast_node_interactivity = \"all\""
   ]
  },
  {
   "cell_type": "code",
   "execution_count": 8,
   "metadata": {},
   "outputs": [],
   "source": [
    "# Import packages\n",
    "import numpy as np\n",
    "import pandas as pd\n",
    "import seaborn as sns\n",
    "import matplotlib.pyplot as plt"
   ]
  },
  {
   "cell_type": "markdown",
   "metadata": {},
   "source": [
    "#### 1. Importing the Data"
   ]
  },
  {
   "cell_type": "code",
   "execution_count": 22,
   "metadata": {},
   "outputs": [
    {
     "data": {
      "text/html": [
       "<div>\n",
       "<style scoped>\n",
       "    .dataframe tbody tr th:only-of-type {\n",
       "        vertical-align: middle;\n",
       "    }\n",
       "\n",
       "    .dataframe tbody tr th {\n",
       "        vertical-align: top;\n",
       "    }\n",
       "\n",
       "    .dataframe thead th {\n",
       "        text-align: right;\n",
       "    }\n",
       "</style>\n",
       "<table border=\"1\" class=\"dataframe\">\n",
       "  <thead>\n",
       "    <tr style=\"text-align: right;\">\n",
       "      <th></th>\n",
       "      <th>country</th>\n",
       "      <th>region</th>\n",
       "      <th>group</th>\n",
       "      <th>fertility</th>\n",
       "      <th>ppgdp</th>\n",
       "      <th>lifeExpF</th>\n",
       "      <th>pctUrban</th>\n",
       "      <th>infantMortality</th>\n",
       "    </tr>\n",
       "  </thead>\n",
       "  <tbody>\n",
       "    <tr>\n",
       "      <th>0</th>\n",
       "      <td>Afghanistan</td>\n",
       "      <td>Asia</td>\n",
       "      <td>other</td>\n",
       "      <td>5.968</td>\n",
       "      <td>499.0</td>\n",
       "      <td>49.49</td>\n",
       "      <td>23.0</td>\n",
       "      <td>124.535000</td>\n",
       "    </tr>\n",
       "    <tr>\n",
       "      <th>1</th>\n",
       "      <td>Albania</td>\n",
       "      <td>Europe</td>\n",
       "      <td>other</td>\n",
       "      <td>1.525</td>\n",
       "      <td>3677.2</td>\n",
       "      <td>80.40</td>\n",
       "      <td>53.0</td>\n",
       "      <td>16.561000</td>\n",
       "    </tr>\n",
       "    <tr>\n",
       "      <th>2</th>\n",
       "      <td>Algeria</td>\n",
       "      <td>Africa</td>\n",
       "      <td>africa</td>\n",
       "      <td>2.142</td>\n",
       "      <td>4473.0</td>\n",
       "      <td>75.00</td>\n",
       "      <td>67.0</td>\n",
       "      <td>21.458000</td>\n",
       "    </tr>\n",
       "    <tr>\n",
       "      <th>3</th>\n",
       "      <td>American Samoa</td>\n",
       "      <td>NaN</td>\n",
       "      <td>NaN</td>\n",
       "      <td>NaN</td>\n",
       "      <td>NaN</td>\n",
       "      <td>NaN</td>\n",
       "      <td>NaN</td>\n",
       "      <td>11.293887</td>\n",
       "    </tr>\n",
       "    <tr>\n",
       "      <th>4</th>\n",
       "      <td>Angola</td>\n",
       "      <td>Africa</td>\n",
       "      <td>africa</td>\n",
       "      <td>5.135</td>\n",
       "      <td>4321.9</td>\n",
       "      <td>53.17</td>\n",
       "      <td>59.0</td>\n",
       "      <td>96.191000</td>\n",
       "    </tr>\n",
       "  </tbody>\n",
       "</table>\n",
       "</div>"
      ],
      "text/plain": [
       "          country  region   group  fertility   ppgdp  lifeExpF  pctUrban  \\\n",
       "0     Afghanistan    Asia   other      5.968   499.0     49.49      23.0   \n",
       "1         Albania  Europe   other      1.525  3677.2     80.40      53.0   \n",
       "2         Algeria  Africa  africa      2.142  4473.0     75.00      67.0   \n",
       "3  American Samoa     NaN     NaN        NaN     NaN       NaN       NaN   \n",
       "4          Angola  Africa  africa      5.135  4321.9     53.17      59.0   \n",
       "\n",
       "   infantMortality  \n",
       "0       124.535000  \n",
       "1        16.561000  \n",
       "2        21.458000  \n",
       "3        11.293887  \n",
       "4        96.191000  "
      ]
     },
     "execution_count": 22,
     "metadata": {},
     "output_type": "execute_result"
    },
    {
     "data": {
      "text/html": [
       "<div>\n",
       "<style scoped>\n",
       "    .dataframe tbody tr th:only-of-type {\n",
       "        vertical-align: middle;\n",
       "    }\n",
       "\n",
       "    .dataframe tbody tr th {\n",
       "        vertical-align: top;\n",
       "    }\n",
       "\n",
       "    .dataframe thead th {\n",
       "        text-align: right;\n",
       "    }\n",
       "</style>\n",
       "<table border=\"1\" class=\"dataframe\">\n",
       "  <thead>\n",
       "    <tr style=\"text-align: right;\">\n",
       "      <th></th>\n",
       "      <th>country</th>\n",
       "      <th>2010</th>\n",
       "    </tr>\n",
       "  </thead>\n",
       "  <tbody>\n",
       "    <tr>\n",
       "      <th>0</th>\n",
       "      <td>Albania</td>\n",
       "      <td>2.08</td>\n",
       "    </tr>\n",
       "    <tr>\n",
       "      <th>1</th>\n",
       "      <td>Argentina</td>\n",
       "      <td>4.33</td>\n",
       "    </tr>\n",
       "    <tr>\n",
       "      <th>2</th>\n",
       "      <td>Armenia</td>\n",
       "      <td>1.92</td>\n",
       "    </tr>\n",
       "    <tr>\n",
       "      <th>3</th>\n",
       "      <td>Australia</td>\n",
       "      <td>17.30</td>\n",
       "    </tr>\n",
       "    <tr>\n",
       "      <th>4</th>\n",
       "      <td>Austria</td>\n",
       "      <td>11.60</td>\n",
       "    </tr>\n",
       "  </tbody>\n",
       "</table>\n",
       "</div>"
      ],
      "text/plain": [
       "     country   2010\n",
       "0    Albania   2.08\n",
       "1  Argentina   4.33\n",
       "2    Armenia   1.92\n",
       "3  Australia  17.30\n",
       "4    Austria  11.60"
      ]
     },
     "execution_count": 22,
     "metadata": {},
     "output_type": "execute_result"
    },
    {
     "data": {
      "text/html": [
       "<div>\n",
       "<style scoped>\n",
       "    .dataframe tbody tr th:only-of-type {\n",
       "        vertical-align: middle;\n",
       "    }\n",
       "\n",
       "    .dataframe tbody tr th {\n",
       "        vertical-align: top;\n",
       "    }\n",
       "\n",
       "    .dataframe thead th {\n",
       "        text-align: right;\n",
       "    }\n",
       "</style>\n",
       "<table border=\"1\" class=\"dataframe\">\n",
       "  <thead>\n",
       "    <tr style=\"text-align: right;\">\n",
       "      <th></th>\n",
       "      <th>country</th>\n",
       "      <th>region</th>\n",
       "      <th>fertility</th>\n",
       "      <th>ppgdp</th>\n",
       "      <th>CO2</th>\n",
       "      <th>lifeExpF</th>\n",
       "      <th>pctUrban</th>\n",
       "      <th>infantMortality</th>\n",
       "    </tr>\n",
       "  </thead>\n",
       "  <tbody>\n",
       "    <tr>\n",
       "      <th>1</th>\n",
       "      <td>Albania</td>\n",
       "      <td>Europe</td>\n",
       "      <td>1.525</td>\n",
       "      <td>3677.2</td>\n",
       "      <td>2.080</td>\n",
       "      <td>80.40</td>\n",
       "      <td>53.0</td>\n",
       "      <td>16.561</td>\n",
       "    </tr>\n",
       "    <tr>\n",
       "      <th>6</th>\n",
       "      <td>Argentina</td>\n",
       "      <td>Latin Amer</td>\n",
       "      <td>2.172</td>\n",
       "      <td>9162.1</td>\n",
       "      <td>4.330</td>\n",
       "      <td>79.89</td>\n",
       "      <td>93.0</td>\n",
       "      <td>12.337</td>\n",
       "    </tr>\n",
       "    <tr>\n",
       "      <th>7</th>\n",
       "      <td>Armenia</td>\n",
       "      <td>Asia</td>\n",
       "      <td>1.735</td>\n",
       "      <td>3030.7</td>\n",
       "      <td>1.920</td>\n",
       "      <td>77.33</td>\n",
       "      <td>64.0</td>\n",
       "      <td>24.272</td>\n",
       "    </tr>\n",
       "    <tr>\n",
       "      <th>9</th>\n",
       "      <td>Australia</td>\n",
       "      <td>Oceania</td>\n",
       "      <td>1.949</td>\n",
       "      <td>57118.9</td>\n",
       "      <td>17.300</td>\n",
       "      <td>84.27</td>\n",
       "      <td>89.0</td>\n",
       "      <td>4.455</td>\n",
       "    </tr>\n",
       "    <tr>\n",
       "      <th>10</th>\n",
       "      <td>Austria</td>\n",
       "      <td>Europe</td>\n",
       "      <td>1.346</td>\n",
       "      <td>45158.8</td>\n",
       "      <td>11.600</td>\n",
       "      <td>83.55</td>\n",
       "      <td>68.0</td>\n",
       "      <td>3.713</td>\n",
       "    </tr>\n",
       "    <tr>\n",
       "      <th>...</th>\n",
       "      <td>...</td>\n",
       "      <td>...</td>\n",
       "      <td>...</td>\n",
       "      <td>...</td>\n",
       "      <td>...</td>\n",
       "      <td>...</td>\n",
       "      <td>...</td>\n",
       "      <td>...</td>\n",
       "    </tr>\n",
       "    <tr>\n",
       "      <th>198</th>\n",
       "      <td>Ukraine</td>\n",
       "      <td>Europe</td>\n",
       "      <td>1.483</td>\n",
       "      <td>3035.0</td>\n",
       "      <td>5.390</td>\n",
       "      <td>74.58</td>\n",
       "      <td>69.0</td>\n",
       "      <td>11.822</td>\n",
       "    </tr>\n",
       "    <tr>\n",
       "      <th>203</th>\n",
       "      <td>Uruguay</td>\n",
       "      <td>Latin Amer</td>\n",
       "      <td>2.043</td>\n",
       "      <td>11952.4</td>\n",
       "      <td>3.020</td>\n",
       "      <td>80.66</td>\n",
       "      <td>93.0</td>\n",
       "      <td>11.754</td>\n",
       "    </tr>\n",
       "    <tr>\n",
       "      <th>206</th>\n",
       "      <td>Venezuela</td>\n",
       "      <td>Latin Amer</td>\n",
       "      <td>2.391</td>\n",
       "      <td>13502.7</td>\n",
       "      <td>5.860</td>\n",
       "      <td>77.73</td>\n",
       "      <td>94.0</td>\n",
       "      <td>15.278</td>\n",
       "    </tr>\n",
       "    <tr>\n",
       "      <th>211</th>\n",
       "      <td>Zambia</td>\n",
       "      <td>Africa</td>\n",
       "      <td>6.300</td>\n",
       "      <td>1237.8</td>\n",
       "      <td>0.418</td>\n",
       "      <td>50.04</td>\n",
       "      <td>36.0</td>\n",
       "      <td>80.956</td>\n",
       "    </tr>\n",
       "    <tr>\n",
       "      <th>212</th>\n",
       "      <td>Zimbabwe</td>\n",
       "      <td>Africa</td>\n",
       "      <td>3.109</td>\n",
       "      <td>573.1</td>\n",
       "      <td>0.717</td>\n",
       "      <td>52.72</td>\n",
       "      <td>39.0</td>\n",
       "      <td>47.284</td>\n",
       "    </tr>\n",
       "  </tbody>\n",
       "</table>\n",
       "<p>96 rows × 8 columns</p>\n",
       "</div>"
      ],
      "text/plain": [
       "       country      region  fertility    ppgdp     CO2  lifeExpF  pctUrban  \\\n",
       "1      Albania      Europe      1.525   3677.2   2.080     80.40      53.0   \n",
       "6    Argentina  Latin Amer      2.172   9162.1   4.330     79.89      93.0   \n",
       "7      Armenia        Asia      1.735   3030.7   1.920     77.33      64.0   \n",
       "9    Australia     Oceania      1.949  57118.9  17.300     84.27      89.0   \n",
       "10     Austria      Europe      1.346  45158.8  11.600     83.55      68.0   \n",
       "..         ...         ...        ...      ...     ...       ...       ...   \n",
       "198    Ukraine      Europe      1.483   3035.0   5.390     74.58      69.0   \n",
       "203    Uruguay  Latin Amer      2.043  11952.4   3.020     80.66      93.0   \n",
       "206  Venezuela  Latin Amer      2.391  13502.7   5.860     77.73      94.0   \n",
       "211     Zambia      Africa      6.300   1237.8   0.418     50.04      36.0   \n",
       "212   Zimbabwe      Africa      3.109    573.1   0.717     52.72      39.0   \n",
       "\n",
       "     infantMortality  \n",
       "1             16.561  \n",
       "6             12.337  \n",
       "7             24.272  \n",
       "9              4.455  \n",
       "10             3.713  \n",
       "..               ...  \n",
       "198           11.822  \n",
       "203           11.754  \n",
       "206           15.278  \n",
       "211           80.956  \n",
       "212           47.284  \n",
       "\n",
       "[96 rows x 8 columns]"
      ]
     },
     "execution_count": 22,
     "metadata": {},
     "output_type": "execute_result"
    }
   ],
   "source": [
    "UN = pd.read_csv(\"UN.csv\")\n",
    "emissions = pd.read_csv(\"emissions.csv\")\n",
    "etidy = emissions.filter(['country', '2010'])\n",
    "UN.head()\n",
    "etidy.head()\n",
    "#inner join\n",
    "data = pd.merge(UN, etidy, on=\"country\", how=\"left\")\n",
    "data.rename(columns={'2010': 'CO2'}, inplace=True)\n",
    "datatemp = data.dropna()\n",
    "datafinal = datatemp.filter(['country', 'region', 'fertility', 'ppgdp', 'CO2', 'lifeExpF', 'pctUrban', 'infantMortality'])\n",
    "datafinal"
   ]
  },
  {
   "cell_type": "markdown",
   "metadata": {},
   "source": [
    "#### 2. Descriptions"
   ]
  },
  {
   "cell_type": "markdown",
   "metadata": {},
   "source": [
    "This data has 96 rows and 8 columns. Each row represents one country's data, and the data collected are the columns: country name, region, fertility rate, ppgdp, CO2 emissions per person in tonnes, Life expectancy for a female, percent urban, and infant mortality rate."
   ]
  },
  {
   "cell_type": "markdown",
   "metadata": {},
   "source": [
    "#### 3. Exploratory Data Analysis"
   ]
  },
  {
   "cell_type": "code",
   "execution_count": 23,
   "metadata": {},
   "outputs": [
    {
     "data": {
      "text/html": [
       "<div>\n",
       "<style scoped>\n",
       "    .dataframe tbody tr th:only-of-type {\n",
       "        vertical-align: middle;\n",
       "    }\n",
       "\n",
       "    .dataframe tbody tr th {\n",
       "        vertical-align: top;\n",
       "    }\n",
       "\n",
       "    .dataframe thead th {\n",
       "        text-align: right;\n",
       "    }\n",
       "</style>\n",
       "<table border=\"1\" class=\"dataframe\">\n",
       "  <thead>\n",
       "    <tr style=\"text-align: right;\">\n",
       "      <th></th>\n",
       "      <th>fertility</th>\n",
       "      <th>ppgdp</th>\n",
       "      <th>CO2</th>\n",
       "      <th>lifeExpF</th>\n",
       "      <th>pctUrban</th>\n",
       "      <th>infantMortality</th>\n",
       "    </tr>\n",
       "  </thead>\n",
       "  <tbody>\n",
       "    <tr>\n",
       "      <th>count</th>\n",
       "      <td>96.000000</td>\n",
       "      <td>96.000000</td>\n",
       "      <td>96.000000</td>\n",
       "      <td>96.000000</td>\n",
       "      <td>96.000000</td>\n",
       "      <td>96.000000</td>\n",
       "    </tr>\n",
       "    <tr>\n",
       "      <th>mean</th>\n",
       "      <td>2.525677</td>\n",
       "      <td>16114.045833</td>\n",
       "      <td>6.341846</td>\n",
       "      <td>74.235729</td>\n",
       "      <td>61.708333</td>\n",
       "      <td>24.541031</td>\n",
       "    </tr>\n",
       "    <tr>\n",
       "      <th>std</th>\n",
       "      <td>1.235034</td>\n",
       "      <td>21192.417002</td>\n",
       "      <td>7.324861</td>\n",
       "      <td>9.543525</td>\n",
       "      <td>21.762313</td>\n",
       "      <td>24.796200</td>\n",
       "    </tr>\n",
       "    <tr>\n",
       "      <th>min</th>\n",
       "      <td>1.284000</td>\n",
       "      <td>324.600000</td>\n",
       "      <td>0.057200</td>\n",
       "      <td>50.040000</td>\n",
       "      <td>13.000000</td>\n",
       "      <td>1.916000</td>\n",
       "    </tr>\n",
       "    <tr>\n",
       "      <th>25%</th>\n",
       "      <td>1.555750</td>\n",
       "      <td>2014.125000</td>\n",
       "      <td>1.160000</td>\n",
       "      <td>70.185000</td>\n",
       "      <td>47.250000</td>\n",
       "      <td>5.209500</td>\n",
       "    </tr>\n",
       "    <tr>\n",
       "      <th>50%</th>\n",
       "      <td>2.152500</td>\n",
       "      <td>6293.950000</td>\n",
       "      <td>4.300000</td>\n",
       "      <td>76.975000</td>\n",
       "      <td>63.500000</td>\n",
       "      <td>16.616000</td>\n",
       "    </tr>\n",
       "    <tr>\n",
       "      <th>75%</th>\n",
       "      <td>2.894000</td>\n",
       "      <td>21855.650000</td>\n",
       "      <td>9.280000</td>\n",
       "      <td>81.562500</td>\n",
       "      <td>77.250000</td>\n",
       "      <td>32.789000</td>\n",
       "    </tr>\n",
       "    <tr>\n",
       "      <th>max</th>\n",
       "      <td>6.300000</td>\n",
       "      <td>105095.400000</td>\n",
       "      <td>47.900000</td>\n",
       "      <td>87.120000</td>\n",
       "      <td>100.000000</td>\n",
       "      <td>92.870000</td>\n",
       "    </tr>\n",
       "  </tbody>\n",
       "</table>\n",
       "</div>"
      ],
      "text/plain": [
       "       fertility          ppgdp        CO2   lifeExpF    pctUrban  \\\n",
       "count  96.000000      96.000000  96.000000  96.000000   96.000000   \n",
       "mean    2.525677   16114.045833   6.341846  74.235729   61.708333   \n",
       "std     1.235034   21192.417002   7.324861   9.543525   21.762313   \n",
       "min     1.284000     324.600000   0.057200  50.040000   13.000000   \n",
       "25%     1.555750    2014.125000   1.160000  70.185000   47.250000   \n",
       "50%     2.152500    6293.950000   4.300000  76.975000   63.500000   \n",
       "75%     2.894000   21855.650000   9.280000  81.562500   77.250000   \n",
       "max     6.300000  105095.400000  47.900000  87.120000  100.000000   \n",
       "\n",
       "       infantMortality  \n",
       "count        96.000000  \n",
       "mean         24.541031  \n",
       "std          24.796200  \n",
       "min           1.916000  \n",
       "25%           5.209500  \n",
       "50%          16.616000  \n",
       "75%          32.789000  \n",
       "max          92.870000  "
      ]
     },
     "execution_count": 23,
     "metadata": {},
     "output_type": "execute_result"
    }
   ],
   "source": [
    "datafinal.describe()"
   ]
  },
  {
   "cell_type": "code",
   "execution_count": 33,
   "metadata": {},
   "outputs": [
    {
     "data": {
      "text/plain": [
       "<AxesSubplot:ylabel='region'>"
      ]
     },
     "execution_count": 33,
     "metadata": {},
     "output_type": "execute_result"
    },
    {
     "data": {
      "text/plain": [
       "count         96\n",
       "unique         7\n",
       "top       Europe\n",
       "freq          29\n",
       "Name: region, dtype: object"
      ]
     },
     "execution_count": 33,
     "metadata": {},
     "output_type": "execute_result"
    },
    {
     "data": {
      "image/png": "[encoded data removed]",
      "text/plain": [
       "<Figure size 432x288 with 1 Axes>"
      ]
     },
     "metadata": {},
     "output_type": "display_data"
    }
   ],
   "source": [
    "datafinal['region'].value_counts().plot.pie()\n",
    "datafinal.region.describe()"
   ]
  },
  {
   "cell_type": "markdown",
   "metadata": {},
   "source": [
    "There are 7 unique regions represented in the dataset, with the most common region being Europe, with 29 of the 96 countries located in Europe. North America only has one reported country, which is surprising since the country in the data is not America, but Canada."
   ]
  },
  {
   "cell_type": "code",
   "execution_count": 36,
   "metadata": {},
   "outputs": [
    {
     "data": {
      "text/plain": [
       "<AxesSubplot:ylabel='Frequency'>"
      ]
     },
     "execution_count": 36,
     "metadata": {},
     "output_type": "execute_result"
    },
    {
     "data": {
      "text/plain": [
       "Text(0.5, 0, 'Life Expectancy (Female)')"
      ]
     },
     "execution_count": 36,
     "metadata": {},
     "output_type": "execute_result"
    },
    {
     "data": {
      "text/plain": [
       "count    96.000000\n",
       "mean     74.235729\n",
       "std       9.543525\n",
       "min      50.040000\n",
       "25%      70.185000\n",
       "50%      76.975000\n",
       "75%      81.562500\n",
       "max      87.120000\n",
       "Name: lifeExpF, dtype: float64"
      ]
     },
     "execution_count": 36,
     "metadata": {},
     "output_type": "execute_result"
    },
    {
     "data": {
      "image/png": "[encoded data removed]",
      "text/plain": [
       "<Figure size 432x288 with 1 Axes>"
      ]
     },
     "metadata": {
      "needs_background": "light"
     },
     "output_type": "display_data"
    }
   ],
   "source": [
    "datafinal['lifeExpF'].plot(kind=\"hist\")\n",
    "plt.xlabel('Life Expectancy (Female)')\n",
    "datafinal.lifeExpF.describe()"
   ]
  },
  {
   "cell_type": "markdown",
   "metadata": {},
   "source": [
    "The histogram for life expectancy of females across all countries in the dataset show a left skewed distribution, with a peak around 76 years, and a minimum of 50 years. There are a few countries that have low life expectancies that are below 70, but the majority of the data falls in the 75 to 85 year range."
   ]
  }
 ],
 "metadata": {
  "kernelspec": {
   "display_name": "Python 3",
   "language": "python",
   "name": "python3"
  },
  "language_info": {
   "codemirror_mode": {
    "name": "ipython",
    "version": 3
   },
   "file_extension": ".py",
   "mimetype": "text/x-python",
   "name": "python",
   "nbconvert_exporter": "python",
   "pygments_lexer": "ipython3",
   "version": "3.8.5"
  }
 },
 "nbformat": 4,
 "nbformat_minor": 4
}
